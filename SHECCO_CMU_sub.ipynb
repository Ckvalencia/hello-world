{
  "nbformat": 4,
  "nbformat_minor": 0,
  "metadata": {
    "colab": {
      "name": "Test_CMU_NEW.ipynb",
      "provenance": [],
      "authorship_tag": "ABX9TyOVcEWFEq+uI8JW0JFj0sjl",
      "include_colab_link": true
    },
    "kernelspec": {
      "name": "python3",
      "display_name": "Python 3"
    }
  },
  "cells": [
    {
      "cell_type": "markdown",
      "metadata": {
        "id": "view-in-github",
        "colab_type": "text"
      },
      "source": [
        "<a href=\"https://colab.research.google.com/github/Ckvalencia/hello-world/blob/master/SHECCO_CMU_sub.ipynb\" target=\"_parent\"><img src=\"https://colab.research.google.com/assets/colab-badge.svg\" alt=\"Open In Colab\"/></a>"
      ]
    },
    {
      "cell_type": "markdown",
      "metadata": {
        "id": "XW6RdDw9I2PH"
      },
      "source": [
        "# **SHECCO methology for CMU subset Mocap data classification**\r\n",
        "\r\n",
        "Here we present how to supplementary material from work titled *Supervised Hilbert embedding based on cross-covariance operator for multichannel Mocap data classification*, the codes corresponding to the activity classification experiment carried out on the CMU subset that appears in the mentioned paper. \r\n"
      ]
    },
    {
      "cell_type": "markdown",
      "metadata": {
        "id": "Q2RRdkG2OlD9"
      },
      "source": [
        "# **1. Loading packages and data**"
      ]
    },
    {
      "cell_type": "code",
      "metadata": {
        "id": "2uWHU_Y8xOcP"
      },
      "source": [
        "#Load the PyMO libary for managment mocap data from: https://github.com/omimo/PyMO\r\n",
        "FILEID = \"1pRkeyDbjudmvNSph596CA2fgQaQJMbz9\" #copiar id de su archivo\r\n",
        "!wget --load-cookies /tmp/cookies.txt \"https://docs.google.com/uc?export=download&confirm=$(wget --quiet --save-cookies /tmp/cookies.txt --keep-session-cookies --no-check-certificate 'https://docs.google.com/uc?export=download&id='$FILEID -O- | sed -rn 's/.*confirm=([0-9A-Za-z_]+).*/\\1\\n/p')&id=\"$FILEID -O codigos.zip && rm -rf /tmp/cookies.txt\r\n",
        "!unzip codigos.zip"
      ],
      "execution_count": null,
      "outputs": []
    },
    {
      "cell_type": "code",
      "metadata": {
        "id": "VPAx8n6cxp2r"
      },
      "source": [
        "#Load the CMU subset\r\n",
        "FILEID = \"1gL4ceVWNeojr3L4b06h6x-_GzKvMnDyq\" #copiar id de su archivo\r\n",
        "!wget --load-cookies /tmp/cookies.txt \"https://docs.google.com/uc?export=download&confirm=$(wget --quiet --save-cookies /tmp/cookies.txt --keep-session-cookies --no-check-certificate 'https://docs.google.com/uc?export=download&id='$FILEID -O- | sed -rn 's/.*confirm=([0-9A-Za-z_]+).*/\\1\\n/p')&id=\"$FILEID -O codigos.zip && rm -rf /tmp/cookies.txt\r\n",
        "!unzip codigos.zip"
      ],
      "execution_count": null,
      "outputs": []
    },
    {
      "cell_type": "code",
      "metadata": {
        "id": "B3pE5AcFxxtl"
      },
      "source": [
        "import os\r\n",
        "import sys\r\n",
        "## Auxiliary function path\r\n",
        "af_dir ='/content/PyMO-master'\r\n",
        "sys.path.append(af_dir)"
      ],
      "execution_count": 20,
      "outputs": []
    },
    {
      "cell_type": "code",
      "metadata": {
        "colab": {
          "base_uri": "https://localhost:8080/"
        },
        "id": "tIAlnwt3x35W",
        "outputId": "93da7a5a-f6f0-497d-c420-e58c12675879"
      },
      "source": [
        "#Load packages\r\n",
        "%matplotlib inline\r\n",
        "%load_ext autoreload\r\n",
        "%autoreload 2\r\n",
        "\r\n",
        "import matplotlib\r\n",
        "import matplotlib.pyplot as plt\r\n",
        "from mpl_toolkits.mplot3d import Axes3D\r\n",
        "\r\n",
        "import numpy as np\r\n",
        "import pandas as pd\r\n",
        "from sklearn.pipeline import Pipeline\r\n",
        "import pickle\r\n",
        "import timeit\r\n",
        "import os\r\n",
        "import sys\r\n",
        "module_path = os.path.abspath(os.path.join('..'))\r\n",
        "if module_path not in sys.path:\r\n",
        "    sys.path.append(module_path)\r\n",
        "\r\n",
        "from pymo.parsers import BVHParser\r\n",
        "from pymo.preprocessing import *\r\n",
        "from pymo.viz_tools import *\r\n",
        "from mpl_toolkits.mplot3d import Axes3D\r\n",
        "import matplotlib.pyplot as plt\r\n",
        "import os\r\n",
        "import scipy.io as sio\r\n",
        "from sklearn.impute import SimpleImputer \r\n",
        "from sklearn.preprocessing import OrdinalEncoder,OneHotEncoder\r\n",
        "from sklearn.base import  BaseEstimator, TransformerMixin, ClassifierMixin\r\n",
        "import pandas as pd\r\n",
        "import numpy as np\r\n",
        "from sklearn.decomposition import PCA \r\n",
        "from sklearn.manifold import TSNE\r\n",
        "from sklearn.preprocessing import StandardScaler\r\n",
        "import matplotlib.pyplot as plt\r\n",
        "from sklearn.metrics import pairwise_distances\r\n",
        "from sklearn.cluster import KMeans\r\n",
        "from sklearn.cluster import SpectralClustering\r\n",
        "from sklearn.externals import joblib\r\n",
        "from sklearn.model_selection import train_test_split\r\n",
        "from sklearn.metrics import roc_curve, auc\r\n",
        "from sklearn.metrics import confusion_matrix, accuracy_score, classification_report\r\n",
        "from sklearn.utils import shuffle\r\n",
        "from joblib import Parallel, delayed\r\n",
        "from sklearn.model_selection import GridSearchCV\r\n",
        "from sklearn.metrics import classification_report as cr\r\n",
        "from sklearn.svm import SVC\r\n",
        "import warnings\r\n",
        "warnings.filterwarnings(\"ignore\")"
      ],
      "execution_count": 21,
      "outputs": [
        {
          "output_type": "stream",
          "text": [
            "The autoreload extension is already loaded. To reload it, use:\n",
            "  %reload_ext autoreload\n"
          ],
          "name": "stdout"
        }
      ]
    },
    {
      "cell_type": "markdown",
      "metadata": {
        "id": "E9YmnLptPntu"
      },
      "source": [
        "#**2. Main  Class corresponding to the compute of the SHECCO metric**"
      ]
    },
    {
      "cell_type": "code",
      "metadata": {
        "id": "Qw1DGIACx9kl"
      },
      "source": [
        "#clase principal shecco\r\n",
        "class SHECCO(BaseEstimator,TransformerMixin):\r\n",
        "    def __init__(self, sigmax = 54, sigmay = 54, Ax = 1, Ay = 1,ws = 5, noverlap = None, k = 50, sup = 1):\r\n",
        "        self.sigmax = sigmax\r\n",
        "        self.sigmay = sigmay\r\n",
        "        self.ws = ws\r\n",
        "        self.noverlap = noverlap\r\n",
        "        self.sup = sup\r\n",
        "        self.k = k\r\n",
        "        self.Ax = Ax\r\n",
        "        self.Ay = Ay\r\n",
        "    \r\n",
        "    def plot_mocap(self, Nfol, Ntrial, ind):\r\n",
        "     list_trials = os.listdir('/content/HDM_demo/'+list_folder[Nfol])\r\n",
        "     list_trials = sorted(list_trials) \r\n",
        "     mp_p = MocapParameterizer(param_type = 'position')\r\n",
        "     data_all = [p.parse('/content/HDM_demo/'+list_folder[Nfol]+'/'+list_trials[Ntrial])]\r\n",
        "     pos_d= mp_p.fit_transform(data_all)\r\n",
        "     #Normalization\r\n",
        "     n=pos_d[0].values\r\n",
        "     P = np.asarray(pos_d[0].values)\r\n",
        "     z = P.reshape(n.shape[0],38,3)\r\n",
        "     Z = np.zeros(z.shape)\r\n",
        "     for i in range(z.shape[0]):\r\n",
        "       for j in range(z.shape[1]):\r\n",
        "         Z[i,j,:] =z[i,j,:]- z[i,0,:]\r\n",
        "\r\n",
        "     #Distance among skeletons\r\n",
        "     for k in range(ind.shape[0]):\r\n",
        "       for l in range(Z.shape[1]):\r\n",
        "         Z[ind[k],l,0]= Z[ind[k],l,0]+20*k\r\n",
        "     Z = Z.reshape(n.shape[0],114)\r\n",
        "     n.iloc[:]=Z[:]\r\n",
        "     pos_d[0].values = n\r\n",
        "\r\n",
        "     if ind.shape[0]<= 10:\r\n",
        "       draw_stickfigure(pos_d[0], frame = ind, figsize=(20,4))\r\n",
        "     else: \r\n",
        "       nf = int(ind.shape[0]/10)\r\n",
        "       for h in range(0,nf):\r\n",
        "         draw_stickfigure(pos_d[0], frame = ind[10*h:10*(h+1)], figsize=(20,4))\r\n",
        "         plt.show()\r\n",
        "\r\n",
        "\r\n",
        "    def geneout_(self,X):\r\n",
        "      #print(X.shape)\r\n",
        "      N,T = X.shape\r\n",
        "      Y = np.zeros((N,T))\r\n",
        "      for n in range(N):\r\n",
        "        for t in range(T-1):\r\n",
        "          Y[n,t]=X[n,t+1]\r\n",
        "      return Y\r\n",
        "\r\n",
        "    def ventaneo_(self,X):\r\n",
        "       N,P = X.shape\r\n",
        "       if self.noverlap == None: self.noverlap =0\r\n",
        "       if self.ws == None: self.ws = P\r\n",
        "       for j in range(N):\r\n",
        "         pi = 0\r\n",
        "         pf = self.ws\r\n",
        "         Xi = X[j,pi:pf].reshape(1,-1) \r\n",
        "         Yi = X[j,pf].reshape(1,-1)\r\n",
        "         pi = pi + (self.ws - self.noverlap)\r\n",
        "         pf = pi +self.ws\r\n",
        "         while pf  < P:\r\n",
        "                Xi = np.r_[Xi,X[j,pi:pf].reshape(1,-1)]\r\n",
        "                Yi = np.r_[Yi,X[j,pf].reshape(1,-1)]\r\n",
        "                pi = pi + (self.ws - self.noverlap)\r\n",
        "                pf = pi +self.ws\r\n",
        "                #print(Xi,Yi)\r\n",
        "         #print(pi,pf)\r\n",
        "         if pf >= P:\r\n",
        "            temp = X[j,pi:].reshape(1,-1)\r\n",
        "            Xi = np.r_[Xi,np.c_[temp,np.zeros(self.ws-temp.shape[1]).reshape(1,-1)]]\r\n",
        "            Yi = np.r_[Yi,np.zeros(1).reshape(-1,1)]       \r\n",
        "         if j == 0: \r\n",
        "           #print(Xi.shape)\r\n",
        "           X_ = np.zeros((N,Xi.shape[0],Xi.shape[1]))\r\n",
        "           Y_ = np.zeros((N,Yi.shape[0],1))\r\n",
        "         X_[j] = Xi  \r\n",
        "         Y_[j] = Yi  \r\n",
        "       return X_,Y_  \r\n",
        "\r\n",
        "    def SC_(self,X,Y):\r\n",
        "        Xcl = np.zeros((X.shape[0], self.k))\r\n",
        "        Ycl = np.zeros((Y.shape[0], self.k))\r\n",
        "        for n in range(X.shape[0]):\r\n",
        "            Z = X[n]\r\n",
        "            L = Y[n]\r\n",
        "            Z = np.tile(Z,(Z.shape[0],1))\r\n",
        "            D = pairwise_distances(Z,Z)\r\n",
        "            gamma = 1/(np.median(D)**2)\r\n",
        "            K = np.exp(-0.5*gamma*D**2)\r\n",
        "            Clus = SpectralClustering(n_clusters= self.k,affinity='precomputed')\r\n",
        "            y_pred = Clus.fit_predict(K)\r\n",
        "            centers = np.zeros((self.k,Z.shape[1]))\r\n",
        "            for c in range(self.k):\r\n",
        "                centers[c] = Z[y_pred==c].mean(axis=0)\r\n",
        "                \r\n",
        "            Ds = pairwise_distances(centers,Z)\r\n",
        "            ind = np.argmin(Ds,axis=1) \r\n",
        "            Xcl[n] = Z[ind]\r\n",
        "            Ycl[n] = L[ind]\r\n",
        "        return Xcl,Ycl\r\n",
        "\r\n",
        "    def SC_Mocap(self,X,Y):\r\n",
        "      Xcl = np.zeros((self.k, X.shape[1]))\r\n",
        "      Ycl = np.zeros((self.k, Y.shape[1]))\r\n",
        "      D = pairwise_distances(Y,Y)\r\n",
        "      gamma = 1/(np.median(D)**2)\r\n",
        "      K = np.exp(-0.5*gamma*D**2)\r\n",
        "      Clus = SpectralClustering(n_clusters= self.k,affinity='precomputed')\r\n",
        "      y_pred = Clus.fit_predict(K)\r\n",
        "      centers = np.zeros((self.k,Y.shape[1]))\r\n",
        "      for c in range(self.k):\r\n",
        "        centers[c] = Y[y_pred==c].mean(axis=0)\r\n",
        "\r\n",
        "      Ds = pairwise_distances(centers,Y)\r\n",
        "      ind = np.argmin(Ds,axis=1)\r\n",
        "      Xcl = X[ind]\r\n",
        "      Ycl = Y[ind]\r\n",
        "      return Xcl,Ycl,ind\r\n",
        "\r\n",
        "\r\n",
        "    def Kmeans_Mocap(self,X):\r\n",
        "      Xcl = np.zeros((self.k, X.shape[1]))\r\n",
        "      #Ycl = np.zeros((self.k, Y.shape[1]))\r\n",
        "      #Clus = KMeans(n_clusters= self.k, random_state=0)\r\n",
        "      y_pred = KMeans(n_clusters= self.k, random_state=0).fit_predict(X)\r\n",
        "      centers = np.zeros((self.k,X.shape[1]))\r\n",
        "      for c in range(self.k):\r\n",
        "        centers[c] = X[y_pred==c].mean(axis=0)\r\n",
        "\r\n",
        "      Ds = pairwise_distances(centers,X)\r\n",
        "      ind = np.argmin(Ds,axis=1)\r\n",
        "      Xcl = X[ind]\r\n",
        "      #Ycl = Y[ind]\r\n",
        "      return Xcl,ind\r\n",
        "\r\n",
        "    def kergM(self,X,Y,sigma_,A):\r\n",
        "       return A*np.exp(-pairwise_distances(X,Y)**2/(2*sigma_**2))\r\n",
        "    \r\n",
        "    def shecco_(self,X,Y,Z,L,pxx,pyy,pzz,pll,pxz=None,pyl=None):  \r\n",
        "      #se asume independencia\r\n",
        "     \r\n",
        "      if (pxz==None) & (pyl==None):\r\n",
        "          PXX = pxx.reshape(-1,1)#.dot(pxx.reshape(1,-1))\r\n",
        "          PYY = pyy.reshape(-1,1)#.dot(pyy.reshape(1,-1))  \r\n",
        "          PZZ = pzz.reshape(-1,1)#.dot(pzz.reshape(1,-1))  \r\n",
        "          PLL = pll.reshape(-1,1)#.dot(pll.reshape(1,-1))  \r\n",
        "          PXY = pxx.reshape(-1,1)#.dot(pyy.reshape(1,-1))  \r\n",
        "          PZL = pzz.reshape(-1,1)#.dot(pll.reshape(1,-1))  \r\n",
        "      KXX  = self.kergM(X,X,self.sigmax,self.Ax)\r\n",
        "      KZZ  = self.kergM(Z,Z,self.sigmax,self.Ax)\r\n",
        "      KYY  = self.kergM(Y,Y,self.sigmay,self.Ay)\r\n",
        "      KLL  = self.kergM(L,L,self.sigmay,self.Ay)\r\n",
        "      KXZ  = self.kergM(X,Z,self.sigmax,self.Ax)\r\n",
        "      KYL  = self.kergM(Y,L,self.sigmay,self.Ay)\r\n",
        "\r\n",
        "\r\n",
        "      #trxx=KXX.shape[0]**2 #np.sqrt(np.trace((KXX.dot(KXX))))\r\n",
        "  \r\n",
        "      #trzz=KZZ.shape[0]**2#np.sqrt(np.trace((KZZ.dot(KZZ))))\r\n",
        "    \r\n",
        "      #tryy=KYY.shape[0]**2#np.sqrt(np.trace((KYY.dot(KYY))))\r\n",
        "     \r\n",
        "      #trll=KLL.shape[0]**2#np.sqrt(np.trace((KLL.dot(KLL))))\r\n",
        "    \r\n",
        "      #trxz=KXX.shape[0]*KZZ.shape[0]#np.sqrt(np.trace((KXZ.dot(KXZ.T))))\r\n",
        "     \r\n",
        "      #tryl=KYY.shape[0]*KLL.shape[0]#np.sqrt(np.trace((KYL.dot(KYL.T))))\r\n",
        "      #KXX = KXX*trxx\r\n",
        "      #KZZ = KZZ*trzz\r\n",
        "      #KYY = KYY*tryy\r\n",
        "      #KLL = KLL*trll\r\n",
        "      #KXZ = KXZ*trxz\r\n",
        "      #KYL = KYL*tryl\r\n",
        "     \r\n",
        "      #d = np.trace((PXX*KXX).dot(KYY*PYY)) -2*np.trace((PXZ*KXZ).dot((KYL*PYL).T)) + np.trace((PZZ*KZZ).dot(KLL*PLL))\r\n",
        "      d = (PXY.T).dot(KXX*KYY).dot(PXY) -2*(PXY.T).dot(KXZ*KYL).dot(PZL) + (PZL.T).dot(KZZ*KLL).dot(PZL)\r\n",
        "\r\n",
        "      if d<0:\r\n",
        "        d = abs(d)\r\n",
        "      return d\r\n",
        "\r\n",
        "    #hecco sin salida (no supervised)\r\n",
        "    def hecco_(self,X,Z,pxx,pzz,pxz=None,pyl=None):  \r\n",
        "      #se asume independencia\r\n",
        "     \r\n",
        "      if (pxz==None) & (pyl==None):\r\n",
        "          PXX = pxx.reshape(-1,1).dot(pxx.reshape(1,-1))\r\n",
        "          PZZ = pzz.reshape(-1,1).dot(pzz.reshape(1,-1))   \r\n",
        "          PXZ = pxx.reshape(-1,1).dot(pzz.reshape(1,-1)) \r\n",
        "      KXX  = self.kergM(X,X,self.sigmax)\r\n",
        "      KZZ  = self.kergM(Z,Z,self.sigmax)\r\n",
        "      KXZ  = self.kergM(X,Z,self.sigmax)\r\n",
        "      \r\n",
        "      d = np.dot(np.dot(np.ones(PXX.shape[0]).T,(PXX*KXX)),np.ones(PXX.shape[0]))-2*np.dot(np.dot(np.ones(PXX.shape[0]).T,(PXZ*KXZ)),np.ones(PZZ.shape[0]))+ np.dot(np.dot(np.ones(PZZ.shape[0]).T,(PXX*KXX)),np.ones(PZZ.shape[0]))\r\n",
        "     \r\n",
        "      if d<0:\r\n",
        "        d = abs(d)\r\n",
        "      return d   \r\n",
        "\r\n",
        "    def SHECCO_M_(self,Xtrain_,Xtest_,Ytrain_,Ytest_,pzz,pll):\r\n",
        "      Ntrain = Xtrain_.shape[0]\r\n",
        "      Ntest = Xtest_.shape[0]\r\n",
        "        \r\n",
        "      Dte_tr = np.zeros((Ntest,Ntrain))\r\n",
        "      for i in range(Ntrain):\r\n",
        "        for j in range(Ntest):\r\n",
        "          if self.sup == None:\r\n",
        "              Dte_tr[j,i] = self.hecco_(Xtrain_[i],Xtest_[j],self.pxx,pzz)\r\n",
        "          else:\r\n",
        "            Dte_tr[j,i] = self.shecco_(Xtrain_[i],Ytrain_[i],Xtest_[j],Ytest_[j],\r\n",
        "                       self.pxx,self.pyy,pzz,pll)\r\n",
        "      return Dte_tr\r\n",
        "\r\n",
        "    def fit(self,X,*_):\r\n",
        "        #self.Xtrain_,self.Ytrain_ = self.ventaneo_(X)\r\n",
        "        # If we want use Spectral Clustering:\r\n",
        "        #if self.k != None:\r\n",
        "           # self.Xtrain_, self.Ytrain_= self.SC_(self.Xtrain_,self.Ytrain_)\r\n",
        "        self.Xtrain_= X\r\n",
        "        Ya = np.zeros((X.shape[0],self.k,114))\r\n",
        "        for i in range(X.shape[0]):\r\n",
        "          Z = X[i]\r\n",
        "          L = dist.geneout_(Z.T)\r\n",
        "          Ya[i,:,:]= L.T\r\n",
        "        Yp = Ya.reshape(X.shape[0]*X.shape[1],X.shape[2])\r\n",
        "        pca = PCA(n_components=3)\r\n",
        "        Ytr = pca.fit(Yp).transform(Yp)  \r\n",
        "        Y = Ytr.reshape(X.shape[0], X.shape[1], Ytr.shape[1])\r\n",
        "        self.Ytrain_= Y\r\n",
        "        self.N = self.Xtrain_.shape[1]\r\n",
        "        #estimar pdfs\r\n",
        "        self.pxx = (1/self.N)*np.ones(self.N) #prob uniformes\r\n",
        "        self.pyy = (1/self.N)*np.ones(self.N)\r\n",
        "        return self\r\n",
        "\r\n",
        "    def transform(self,X): #Xt_=[Xt,Yt]\r\n",
        "        #Xtest_,Ytest_ = self.ventaneo_(X)\r\n",
        "        # If we want use Spectral Clustering:\r\n",
        "        #if self.k != None:\r\n",
        "        Xtest_ = X\r\n",
        "        Yb = np.zeros((X.shape[0],self.k,114))\r\n",
        "        for i in range(X.shape[0]):\r\n",
        "          Z = X[i]\r\n",
        "          L = dist.geneout_(Z.T)\r\n",
        "          Yb[i,:,:]= L.T\r\n",
        "        Yp = Yb.reshape(X.shape[0]*X.shape[1],X.shape[2])\r\n",
        "        pca = PCA(n_components=3)\r\n",
        "        Yte = pca.fit(Yp).transform(Yp)  \r\n",
        "        Y = Yte.reshape(X.shape[0], X.shape[1], Yte.shape[1])\r\n",
        "        Ytest_ = Y\r\n",
        "        M = Xtest_.shape[1]\r\n",
        "        #estimar pdfs\r\n",
        "        pzz = (1/M)*np.ones(M) #porbas uniformes\r\n",
        "        pll = (1/M)*np.ones(M)\r\n",
        "        return self.SHECCO_M_(self.Xtrain_,Xtest_,self.Ytrain_,Ytest_,pzz,pll)\r\n",
        "\r\n",
        "    def fit_tranform(self,X):\r\n",
        "        self.fit(X)\r\n",
        "        return self.transform(X)"
      ],
      "execution_count": 46,
      "outputs": []
    },
    {
      "cell_type": "code",
      "metadata": {
        "id": "fMtMmzoKypBs"
      },
      "source": [
        "#The data directory is established\r\n",
        "list_folder = os.listdir('/content/cmu-subset/')\r\n",
        "list_folder = sorted(list_folder)\r\n",
        "list_folder"
      ],
      "execution_count": 23,
      "outputs": []
    },
    {
      "cell_type": "markdown",
      "metadata": {
        "id": "OoyDwlxYY-vD"
      },
      "source": [
        "# **3. Data is loaded and skeletons and trajectories are extracted using the PyMO library**"
      ]
    },
    {
      "cell_type": "code",
      "metadata": {
        "id": "QCqW-IyT2d9F"
      },
      "source": [
        "p = BVHParser()\r\n",
        "mp = MocapParameterizer(param_type = 'position')\r\n",
        "pos_cent = {}\r\n",
        "list_folder = os.listdir('/content/cmu-subset/')\r\n",
        "k = 0\r\n",
        "labels_subj = np.zeros((204))\r\n",
        "for i in range(len(list_folder)):\r\n",
        "  list_trials = os.listdir('/content/cmu-subset/'+list_folder[i])\r\n",
        "  list_trials = sorted(list_trials)\r\n",
        "  for j in range(len(list_trials)):\r\n",
        "    labels_subj[k] = list_trials[j][4:6]        \r\n",
        "    data_all = [p.parse('/content/cmu-subset/'+list_folder[i]+'/'+list_trials[j])]\r\n",
        "    #labels_subj = \r\n",
        "    pos_cent[k] = mp.fit_transform(data_all)\r\n",
        "    k = k+1"
      ],
      "execution_count": 26,
      "outputs": []
    },
    {
      "cell_type": "markdown",
      "metadata": {
        "id": "-4nVaktzZbCO"
      },
      "source": [
        "# **4. The data of each frame is normalized with respect to the hip joint**"
      ]
    },
    {
      "cell_type": "code",
      "metadata": {
        "id": "SsEHoaTt2Dsc"
      },
      "source": [
        "#Normalization with respect to hips positions\r\n",
        "for k in range(len(pos_cent)): \r\n",
        "  n=pos_cent[k][0].values\r\n",
        "  P = np.asarray(n)\r\n",
        "  X = P.reshape(n.shape[0],38,3)\r\n",
        "  Z = np.zeros(X.shape)\r\n",
        "  for i in range(X.shape[0]):\r\n",
        "    for j in range(X.shape[1]):\r\n",
        "      Z[i,j,:] =X[i,j,:]- X[i,0,:]\r\n",
        "  Z = Z.reshape(n.shape[0],114)   \r\n",
        "  n.iloc[:]=Z[:]\r\n",
        "  pos_cent[k][0].values = n"
      ],
      "execution_count": 28,
      "outputs": []
    },
    {
      "cell_type": "markdown",
      "metadata": {
        "id": "NCQ8yhh_ZtGA"
      },
      "source": [
        "# **5. The clustering process is executed using the K-means algorithm in order to obtain the most relevant frames**"
      ]
    },
    {
      "cell_type": "code",
      "metadata": {
        "colab": {
          "base_uri": "https://localhost:8080/"
        },
        "id": "Vc1ubc8d3jHd",
        "outputId": "60578164-a151-4db1-e51e-6ce178a08417"
      },
      "source": [
        "#Clustering positions\r\n",
        "start = timeit.timeit()\r\n",
        "k=50\r\n",
        "dist = SHECCO(k=k)\r\n",
        "Xa = np.zeros((len(pos_cent),k,114))\r\n",
        "ind = np.zeros((len(pos_cent),k))\r\n",
        "for i in range(len(pos_cent)):\r\n",
        "  Z = np.array(pos_cent[i][0].values)\r\n",
        "  Xc,indx = dist.Kmeans_Mocap(Z)\r\n",
        "  Xa[i,:,:]= Xc\r\n",
        "  ind[i,:] = indx\r\n",
        "end = timeit.timeit()\r\n",
        "print(end-start)\r\n",
        "ind=ind.astype(int)"
      ],
      "execution_count": 29,
      "outputs": [
        {
          "output_type": "stream",
          "text": [
            "0.009127749999606749\n"
          ],
          "name": "stdout"
        }
      ]
    },
    {
      "cell_type": "markdown",
      "metadata": {
        "id": "e3VMK4m5aKAT"
      },
      "source": [
        "# **6. A 2D projection is made, through PCA, of the frames obtained in the grouping process**"
      ]
    },
    {
      "cell_type": "code",
      "metadata": {
        "colab": {
          "base_uri": "https://localhost:8080/",
          "height": 283
        },
        "id": "nqwjoYE06GAG",
        "outputId": "66a4cf01-488c-4da7-8a91-e39bcd2fd68f"
      },
      "source": [
        "v = 90\r\n",
        "Z = pos_cent[v][0].values\r\n",
        "pca = PCA(n_components=2)\r\n",
        "x = pca.fit(Z).transform(Z)\r\n",
        "plt.scatter(x[:, 0], x[:, 1],color='k', s=10)\r\n",
        "plt.scatter(x[ind[v], 0], x[ind[v], 1], marker='d', s=2, linewidths=8,c=ind[v])\r\n",
        "a = plt.colorbar()\r\n",
        "a.set_ticks([np.min(ind[v]),np.max(ind[v])])\r\n",
        "a.set_ticklabels(['First centroid','Last centroid'])\r\n",
        "plt.xlabel('First dimension')\r\n",
        "plt.ylabel('Second dimension')\r\n",
        "#for j in range(ind.shape[1]):\r\n",
        " #plt.text(x[ind[v,j], 0], x[ind[v,j], 1], ind[v,j], fontsize=12,color = 'r')\r\n",
        "#plt.savefig('Volley.pdf', bbox_inches='tight')\r\n",
        "plt.savefig('throw_pca.pdf', bbox_inches='tight')\r\n",
        "plt.show()"
      ],
      "execution_count": 30,
      "outputs": [
        {
          "output_type": "display_data",
          "data": {
            "image/png": "[encoded data removed]",
            "text/plain": [
              "<Figure size 432x288 with 2 Axes>"
            ]
          },
          "metadata": {
            "tags": [],
            "needs_background": "light"
          }
        }
      ]
    },
    {
      "cell_type": "code",
      "metadata": {
        "id": "86QKA7Eh_Ksx"
      },
      "source": [
        "# We define the name of the labels according to the type of activity\r\n",
        "list_mov = ['wal', 'run', 'sit', 'jum', 'wei', 'cli', 'swn', 'plb', 'plt', 'kic', 'soc', 'box', 'swm', 'sal', 'InB']"
      ],
      "execution_count": 32,
      "outputs": []
    },
    {
      "cell_type": "markdown",
      "metadata": {
        "id": "cpNka5fza2lc"
      },
      "source": [
        "# **7. We construct the vector of labels and adjust the parameters of the characteristic kernels**"
      ]
    },
    {
      "cell_type": "code",
      "metadata": {
        "colab": {
          "base_uri": "https://localhost:8080/"
        },
        "id": "jt2o0fXhwXbI",
        "outputId": "e427d80c-ba3d-4979-826d-92fe891b899f"
      },
      "source": [
        "#Labels is built\r\n",
        "X = []\r\n",
        "nlabs = []\r\n",
        "filename = 'Data_clus_CMU_demo'\r\n",
        "for j in range(len(list_folder)):\r\n",
        "  list_trials = os.listdir('/content/cmu-subset/'+list_folder[j])\r\n",
        "  list_trials = sorted(list_trials)\r\n",
        "  for i in range(len(list_trials)):\r\n",
        "    X += [Xa[i]]\r\n",
        "  nlabs += [len(list_trials)]\r\n",
        "labels = np.repeat(list_folder, nlabs, axis=0)\r\n",
        "labels_name = np.repeat(list_mov, nlabs, axis=0)\r\n",
        "labels = labels.reshape(-1,1) \r\n",
        "labels_name = labels_name.reshape(-1,1)   \r\n",
        "X+=[labels]\r\n",
        "joblib.dump(X,filename+\".pkl\")"
      ],
      "execution_count": 33,
      "outputs": [
        {
          "output_type": "execute_result",
          "data": {
            "text/plain": [
              "['Data_clus_CMU_demo.pkl']"
            ]
          },
          "metadata": {
            "tags": []
          },
          "execution_count": 33
        }
      ]
    },
    {
      "cell_type": "code",
      "metadata": {
        "id": "KGtiPRyQwa2T"
      },
      "source": [
        "# Sigma parameters is computed\r\n",
        "Sigx = np.zeros((Xa.shape[0]))\r\n",
        "#Sigy = np.zeros((Y.shape[0]))\r\n",
        "for i in range(Xa.shape[0]):\r\n",
        "  Dx = pairwise_distances(Xa[i],Xa[i])\r\n",
        "  Sigx[i] = np.median(Dx)\r\n",
        "  #Dy = pairwise_distances(Y[i],Y[i])\r\n",
        "  #Sigy[i] = np.median(Dy)\r\n",
        "Sigma_x = np.median(Sigx)\r\n",
        "Sigma_y = Sigma_x"
      ],
      "execution_count": 34,
      "outputs": []
    },
    {
      "cell_type": "markdown",
      "metadata": {
        "id": "ae0wMgGBbvKh"
      },
      "source": [
        "# **8. We calculate and graph the dissimilarity matrix from SHECCO**"
      ]
    },
    {
      "cell_type": "code",
      "metadata": {
        "id": "uKotvO2bwcaB"
      },
      "source": [
        "#Compute the distances matrix\r\n",
        "dist = SHECCO(sigmax=Sigma_x, sigmay=Sigma_y, Ax = k, Ay = k)\r\n",
        "D = dist.fit_transform(Xa)"
      ],
      "execution_count": 47,
      "outputs": []
    },
    {
      "cell_type": "code",
      "metadata": {
        "colab": {
          "base_uri": "https://localhost:8080/"
        },
        "id": "F2zzt9xgAIDs",
        "outputId": "d55dfe63-6dc3-4db8-a171-87f2318ea148"
      },
      "source": [
        "D.shape"
      ],
      "execution_count": 48,
      "outputs": [
        {
          "output_type": "execute_result",
          "data": {
            "text/plain": [
              "(204, 204)"
            ]
          },
          "metadata": {
            "tags": []
          },
          "execution_count": 48
        }
      ]
    },
    {
      "cell_type": "code",
      "metadata": {
        "colab": {
          "base_uri": "https://localhost:8080/",
          "height": 269
        },
        "id": "6rZxB845wdUW",
        "outputId": "d239cad9-14e9-4f77-af9c-f7fb368b939b"
      },
      "source": [
        "#Graph the dissimilarity matrix\r\n",
        "plt.imshow(D)\r\n",
        "plt.colorbar()\r\n",
        "#plt.savefig('distance_HDM.pdf', bbox_inches='tight')\r\n",
        "plt.show()"
      ],
      "execution_count": 49,
      "outputs": [
        {
          "output_type": "display_data",
          "data": {
            "image/png": "[encoded data removed]",
            "text/plain": [
              "<Figure size 432x288 with 2 Axes>"
            ]
          },
          "metadata": {
            "tags": [],
            "needs_background": "light"
          }
        }
      ]
    },
    {
      "cell_type": "markdown",
      "metadata": {
        "id": "-ihMtos4cSvf"
      },
      "source": [
        "# **9. We visualize the space generated by the dissimilarity matrix using TSNE**"
      ]
    },
    {
      "cell_type": "code",
      "metadata": {
        "colab": {
          "base_uri": "https://localhost:8080/",
          "height": 317
        },
        "id": "qNwwJ8O5wmHB",
        "outputId": "67c05857-7265-4cef-a5f5-424fd94af5a9"
      },
      "source": [
        "#visualizar espacio generado por las distancias con tsne\r\n",
        "red = TSNE(metric='precomputed',perplexity=20.0) # tsne asume que la entrada es una matriz de distancias, preplexity = #vecinos = entropia por vecindarios\r\n",
        "ztrain = red.fit_transform(D)\r\n",
        "plt.scatter(ztrain[:,0],ztrain[:,1],c=labels)\r\n",
        "plt.xlabel('First dimension')\r\n",
        "plt.ylabel('Second dimension')\r\n",
        "a = plt.colorbar()\r\n",
        "a.set_ticks([1, 2, 3, 4,5,6,7,8,9,10,11,12,13,14,15])\r\n",
        "a.set_ticklabels(list_mov)\r\n",
        "plt.savefig('TSNE_CMU.pdf', bbox_inches='tight')\r\n",
        "plt.legend()"
      ],
      "execution_count": 52,
      "outputs": [
        {
          "output_type": "stream",
          "text": [
            "No handles with labels found to put in legend.\n"
          ],
          "name": "stderr"
        },
        {
          "output_type": "execute_result",
          "data": {
            "text/plain": [
              "<matplotlib.legend.Legend at 0x7ff83f2c2cc0>"
            ]
          },
          "metadata": {
            "tags": []
          },
          "execution_count": 52
        },
        {
          "output_type": "display_data",
          "data": {
            "image/png": "[encoded data removed]",
            "text/plain": [
              "<Figure size 432x288 with 2 Axes>"
            ]
          },
          "metadata": {
            "tags": [],
            "needs_background": "light"
          }
        }
      ]
    },
    {
      "cell_type": "markdown",
      "metadata": {
        "id": "yd9NQxHKci4Q"
      },
      "source": [
        "# **10. We adjust the parameters associated with the classifier based on an SVM**"
      ]
    },
    {
      "cell_type": "code",
      "metadata": {
        "id": "YmnUTE01wpAC"
      },
      "source": [
        "  steps=[('pre',  StandardScaler()),\r\n",
        "         ('svc', SVC(kernel='rbf'))] \r\n",
        "  parameters = {                   \r\n",
        "                'svc__C': [1 ,10,100,1000,10000],\r\n",
        "                'svc__gamma': [0.01,0.1,1,100,1000]    \r\n",
        "               }\r\n",
        "\r\n",
        "  label_model = ['SHECCO_SVC']"
      ],
      "execution_count": 55,
      "outputs": []
    },
    {
      "cell_type": "code",
      "metadata": {
        "colab": {
          "base_uri": "https://localhost:8080/"
        },
        "id": "eJSO5Q3JwrDE",
        "outputId": "c329ff3b-527e-4c64-83d8-4fc0f2cc4b9b"
      },
      "source": [
        "#crear carpeta con resultados\r\n",
        "import os\r\n",
        "try:\r\n",
        "  os.mkdir('datos')\r\n",
        "except:\r\n",
        "  print(\"Carpeta results ya existe\")"
      ],
      "execution_count": 56,
      "outputs": [
        {
          "output_type": "stream",
          "text": [
            "Carpeta results ya existe\n"
          ],
          "name": "stdout"
        }
      ]
    },
    {
      "cell_type": "markdown",
      "metadata": {
        "id": "P6tMrOxAc4YP"
      },
      "source": [
        "# **11. We execute the training and validation processes of the classifier, in addition we adjust the parameters using cross validation**"
      ]
    },
    {
      "cell_type": "code",
      "metadata": {
        "colab": {
          "base_uri": "https://localhost:8080/"
        },
        "id": "GkVnI8q1wst5",
        "outputId": "f224c599-d14b-4180-bf22-b651eb6ec116"
      },
      "source": [
        "from sklearn.model_selection import StratifiedShuffleSplit\r\n",
        "#Global variables\r\n",
        "N = D.shape[0]\r\n",
        "Niter = 10\r\n",
        "per_test     = 0.2\r\n",
        "n_classes    = len(np.unique(labels))\r\n",
        "acc     = np.zeros((Niter))\r\n",
        "cmc           = np.zeros((Niter,n_classes,n_classes))\r\n",
        "best_estimators = []#mejor metodo por iteracion\r\n",
        "best_parameters = []#mejor metodo por iteracion\r\n",
        "y = labels_name\r\n",
        "\r\n",
        "v_sigmax = [0.5*Sigma_x , Sigma_x , 2*Sigma_x, 5*Sigma_x,10*Sigma_x]\r\n",
        "v_sigmay = [0.5*Sigma_y , Sigma_y , 2*Sigma_y, 5*Sigma_y,10*Sigma_y]\r\n",
        "#v_sigmax = [0.1, 1,10,100,200,500,1000]\r\n",
        "#v_sigmay = [0.1, 1,10,100,200,500,1000]\r\n",
        "\r\n",
        "Cms  = np.zeros((len(v_sigmax)*len(v_sigmay),len(np.unique(y)),len(np.unique(y))))\r\n",
        "Cmstd  = np.zeros((len(v_sigmax)*len(v_sigmay),len(np.unique(y)),len(np.unique(y))))\r\n",
        "accms  = np.zeros((len(v_sigmax)*len(v_sigmay),2))\r\n",
        "sigmaM = np.zeros((len(v_sigmax)*len(v_sigmay),2))\r\n",
        "\r\n",
        "#main loop\r\n",
        "\r\n",
        "i = 0\r\n",
        "sss = StratifiedShuffleSplit(n_splits=Niter, test_size=per_test, random_state=0)\r\n",
        "for Sigma_xi,Sigma_yi in zip(v_sigmax,v_sigmay):\r\n",
        "    print('iter %d/%d' % (i+1,Cms.shape[0]))\r\n",
        "    print('Sigmax=%.2e; Sigmay=%.2e' % (Sigma_xi, Sigma_yi))\r\n",
        "    sigmaM[i] = np.array([Sigma_xi,Sigma_yi])\r\n",
        "\r\n",
        "    dist = SHECCO(sigmax=Sigma_xi, sigmay=Sigma_yi, Ax = k, Ay = k)\r\n",
        "    D = dist.fit_transform(Xa)\r\n",
        "    \r\n",
        "    j = 0\r\n",
        "    for train_index, test_index in sss.split(D, y):\r\n",
        "        X_train = D[train_index]\r\n",
        "        X_train = X_train[:,train_index]\r\n",
        "        y_train = y[train_index]\r\n",
        "        X_test = D[test_index]\r\n",
        "        X_test = X_test[:,train_index]     \r\n",
        "        y_test = y[test_index]\r\n",
        "        grid_search = GridSearchCV(Pipeline(steps),parameters,cv=5,verbose=0,scoring='accuracy',n_jobs=-1)\r\n",
        "        #generar mejor modelo\r\n",
        "        grid_search.fit(X_train,y_train)\r\n",
        "        #estimar salida conjunto de test\r\n",
        "        y_pred = grid_search.best_estimator_.predict(X_test)\r\n",
        "        #guardar mejor modelo\r\n",
        "        best_estimators.append(grid_search.best_estimator_)\r\n",
        "        best_parameters.append(grid_search.best_params_)\r\n",
        "        \r\n",
        "        #guardar acierto\r\n",
        "        acc[j] = 100*accuracy_score(y_test,y_pred)\r\n",
        "        #estimar matriz de confusion\r\n",
        "        cm = confusion_matrix(y_test, y_pred)\r\n",
        "        cm = 100*cm.astype('float') / cm.sum(axis=1)[:, np.newaxis]\r\n",
        "        cmc[j] = cm\r\n",
        "        j+=1\r\n",
        "        #print('it %d/%d'%(j+1,Niter))\r\n",
        "        #print(grid_search.best_params_)\r\n",
        "        \r\n",
        "    Cms[i] = cmc.mean(axis=0)\r\n",
        "    Cmstd[i] = cmc.std(axis=0)\r\n",
        "    accms[i,0] = acc.mean()\r\n",
        "    accms[i,1] = acc.std()\r\n",
        "    print('acc=$%.2f\\pm%.2f' % (accms[i,0],accms[i,1]))\r\n",
        "    print('confusionmatrix \\n',np.array_str(Cms[i], precision=2))\r\n",
        "    i+=1"
      ],
      "execution_count": 57,
      "outputs": [
        {
          "output_type": "stream",
          "text": [
            "iter 1/25\n",
            "Sigmax=1.85e+01; Sigmay=1.85e+01\n",
            "acc=$91.71\\pm4.25\n",
            "confusionmatrix \n",
            " [[ 75.     0.     0.     0.     0.     5.     0.    12.5    0.     0.\n",
            "    7.5    0.     0.     0.     0.  ]\n",
            " [  0.   100.     0.     0.     0.     0.     0.     0.     0.     0.\n",
            "    0.     0.     0.     0.     0.  ]\n",
            " [  0.     0.   100.     0.     0.     0.     0.     0.     0.     0.\n",
            "    0.     0.     0.     0.     0.  ]\n",
            " [  0.     0.     0.    80.    20.     0.     0.     0.     0.     0.\n",
            "    0.     0.     0.     0.     0.  ]\n",
            " [  0.     0.     0.    20.    80.     0.     0.     0.     0.     0.\n",
            "    0.     0.     0.     0.     0.  ]\n",
            " [  0.     0.     0.     0.     3.33  96.67   0.     0.     0.     0.\n",
            "    0.     0.     0.     0.     0.  ]\n",
            " [  3.33  16.67   0.     0.     0.     0.    73.33   0.     0.     0.\n",
            "    6.67   0.     0.     0.     0.  ]\n",
            " [  0.     0.     0.     0.     0.     0.     0.   100.     0.     0.\n",
            "    0.     0.     0.     0.     0.  ]\n",
            " [  0.     0.     0.     0.     0.     0.     5.     0.    85.     0.\n",
            "   10.     0.     0.     0.     0.  ]\n",
            " [  0.     0.     0.     0.     0.     0.     0.     0.     0.   100.\n",
            "    0.     0.     0.     0.     0.  ]\n",
            " [  0.     0.     0.     0.     0.     0.     0.     0.     6.67   6.67\n",
            "   86.67   0.     0.     0.     0.  ]\n",
            " [  0.     0.     0.     0.     0.     0.     0.     0.     0.     0.\n",
            "    0.   100.     0.     0.     0.  ]\n",
            " [  0.     0.     0.     0.     0.     0.     0.     0.     0.     0.\n",
            "    0.     0.   100.     0.     0.  ]\n",
            " [  0.     0.     0.     0.     0.     0.     0.     0.     0.     0.\n",
            "    0.     0.     0.   100.     0.  ]\n",
            " [ 30.     0.     0.     0.     0.     0.     0.     0.     0.     0.\n",
            "    0.     0.     0.     0.    70.  ]]\n",
            "iter 2/25\n",
            "Sigmax=3.70e+01; Sigmay=3.70e+01\n",
            "acc=$91.46\\pm4.12\n",
            "confusionmatrix \n",
            " [[ 82.5    0.     0.     0.     0.     0.     2.5   12.5    0.     0.\n",
            "    0.     0.     2.5    0.     0.  ]\n",
            " [  0.    90.     0.     0.     0.     0.     0.     0.     0.    10.\n",
            "    0.     0.     0.     0.     0.  ]\n",
            " [  0.     0.   100.     0.     0.     0.     0.     0.     0.     0.\n",
            "    0.     0.     0.     0.     0.  ]\n",
            " [  0.     0.     0.    70.    30.     0.     0.     0.     0.     0.\n",
            "    0.     0.     0.     0.     0.  ]\n",
            " [  0.     0.     0.    20.    80.     0.     0.     0.     0.     0.\n",
            "    0.     0.     0.     0.     0.  ]\n",
            " [  0.     0.     0.     0.     1.67  98.33   0.     0.     0.     0.\n",
            "    0.     0.     0.     0.     0.  ]\n",
            " [  0.    13.33   0.     0.     0.     0.    76.67   0.     0.     0.\n",
            "    0.     0.     0.     3.33   6.67]\n",
            " [  0.     0.     0.     0.     0.     0.     0.   100.     0.     0.\n",
            "    0.     0.     0.     0.     0.  ]\n",
            " [  0.     0.     0.     0.     0.     0.     0.     0.    90.     0.\n",
            "   10.     0.     0.     0.     0.  ]\n",
            " [  0.     0.     0.     0.     0.     0.     1.67   0.     0.    98.33\n",
            "    0.     0.     0.     0.     0.  ]\n",
            " [  0.     3.33   0.     0.     0.     0.     0.     0.     3.33   6.67\n",
            "   86.67   0.     0.     0.     0.  ]\n",
            " [  0.     0.     0.     0.     0.     0.     0.     0.     0.     0.\n",
            "    0.   100.     0.     0.     0.  ]\n",
            " [  0.     0.     0.     0.     0.     0.     0.     0.     0.     0.\n",
            "    0.     0.   100.     0.     0.  ]\n",
            " [  0.     0.     0.     0.     0.     0.     6.67   0.     0.     0.\n",
            "    0.     0.     0.    93.33   0.  ]\n",
            " [  0.     0.     0.     0.     0.     0.    30.     0.     0.     0.\n",
            "    0.     0.     0.     0.    70.  ]]\n",
            "iter 3/25\n",
            "Sigmax=7.39e+01; Sigmay=7.39e+01\n",
            "acc=$86.34\\pm3.81\n",
            "confusionmatrix \n",
            " [[ 85.     0.     0.     0.     0.     0.     2.5   12.5    0.     0.\n",
            "    0.     0.     0.     0.     0.  ]\n",
            " [  0.    66.67   0.     0.     0.     0.    10.     0.     0.    16.67\n",
            "    6.67   0.     0.     0.     0.  ]\n",
            " [  0.     0.   100.     0.     0.     0.     0.     0.     0.     0.\n",
            "    0.     0.     0.     0.     0.  ]\n",
            " [  0.     0.     0.    60.    40.     0.     0.     0.     0.     0.\n",
            "    0.     0.     0.     0.     0.  ]\n",
            " [  0.     0.     0.    20.    80.     0.     0.     0.     0.     0.\n",
            "    0.     0.     0.     0.     0.  ]\n",
            " [  0.     0.     0.     0.     0.   100.     0.     0.     0.     0.\n",
            "    0.     0.     0.     0.     0.  ]\n",
            " [  0.     6.67   0.     0.     0.     0.    70.     0.     3.33   3.33\n",
            "    0.     0.     0.    10.     6.67]\n",
            " [  0.     0.     0.     0.     0.     0.     0.    90.     0.     0.\n",
            "    0.     0.    10.     0.     0.  ]\n",
            " [  0.     0.    20.     0.     0.     0.     0.     0.    70.     0.\n",
            "   10.     0.     0.     0.     0.  ]\n",
            " [  0.     3.33   0.     0.     0.     0.     3.33   0.     0.    91.67\n",
            "    1.67   0.     0.     0.     0.  ]\n",
            " [  0.     6.67   0.     0.     0.     0.     0.     0.     3.33   3.33\n",
            "   86.67   0.     0.     0.     0.  ]\n",
            " [  0.     0.     0.     0.     0.     0.     0.     0.     0.     0.\n",
            "    0.   100.     0.     0.     0.  ]\n",
            " [  0.     0.     0.     0.     0.     0.     0.     0.     0.     0.\n",
            "    0.     0.   100.     0.     0.  ]\n",
            " [  0.     0.     0.     0.     0.     0.    16.67   0.     0.     0.\n",
            "    0.     0.     0.    83.33   0.  ]\n",
            " [ 10.    10.     0.     0.     0.     0.    20.     0.     0.     0.\n",
            "    0.     0.     0.     0.    60.  ]]\n",
            "iter 4/25\n",
            "Sigmax=1.85e+02; Sigmay=1.85e+02\n",
            "acc=$82.93\\pm4.08\n",
            "confusionmatrix \n",
            " [[ 82.5    0.     0.     2.5    0.     0.     2.5   12.5    0.     0.\n",
            "    0.     0.     0.     0.     0.  ]\n",
            " [  0.    63.33   0.     0.     0.     0.    16.67   0.     0.    13.33\n",
            "    6.67   0.     0.     0.     0.  ]\n",
            " [  0.     0.   100.     0.     0.     0.     0.     0.     0.     0.\n",
            "    0.     0.     0.     0.     0.  ]\n",
            " [  0.     0.     0.    40.    60.     0.     0.     0.     0.     0.\n",
            "    0.     0.     0.     0.     0.  ]\n",
            " [  0.     0.     0.    20.    80.     0.     0.     0.     0.     0.\n",
            "    0.     0.     0.     0.     0.  ]\n",
            " [  0.     0.     0.     0.     0.   100.     0.     0.     0.     0.\n",
            "    0.     0.     0.     0.     0.  ]\n",
            " [  3.33  10.     0.     0.     0.     0.    63.33   0.     0.     3.33\n",
            "    3.33   0.     0.    13.33   3.33]\n",
            " [  0.     0.     0.     0.     0.     0.    10.    50.     0.     0.\n",
            "    0.     0.    40.     0.     0.  ]\n",
            " [  0.     0.    20.     0.     0.     0.     0.     0.    70.     0.\n",
            "   10.     0.     0.     0.     0.  ]\n",
            " [  0.     6.67   0.     0.     0.     0.     6.67   0.     0.    85.\n",
            "    1.67   0.     0.     0.     0.  ]\n",
            " [  0.    10.     0.     0.     0.     0.     0.     0.     3.33   3.33\n",
            "   83.33   0.     0.     0.     0.  ]\n",
            " [  0.     0.     0.     0.     0.     0.     0.     0.     0.     0.\n",
            "    0.   100.     0.     0.     0.  ]\n",
            " [  0.     0.     0.     0.     0.     0.     0.     0.     0.     0.\n",
            "    0.     0.   100.     0.     0.  ]\n",
            " [  0.     0.     0.     0.     0.     0.    16.67   0.     0.     0.\n",
            "    0.     0.     0.    83.33   0.  ]\n",
            " [ 20.     0.     0.     0.     0.     0.    10.     0.     0.     0.\n",
            "    0.     0.     0.     0.    70.  ]]\n",
            "iter 5/25\n",
            "Sigmax=3.70e+02; Sigmay=3.70e+02\n",
            "acc=$83.17\\pm5.28\n",
            "confusionmatrix \n",
            " [[ 82.5    0.     0.     2.5    0.     0.     2.5   12.5    0.     0.\n",
            "    0.     0.     0.     0.     0.  ]\n",
            " [  0.    70.     0.     0.     0.     0.    16.67   0.     0.     6.67\n",
            "    6.67   0.     0.     0.     0.  ]\n",
            " [  0.     0.   100.     0.     0.     0.     0.     0.     0.     0.\n",
            "    0.     0.     0.     0.     0.  ]\n",
            " [  0.     0.     0.    50.    50.     0.     0.     0.     0.     0.\n",
            "    0.     0.     0.     0.     0.  ]\n",
            " [  0.     0.     0.    20.    80.     0.     0.     0.     0.     0.\n",
            "    0.     0.     0.     0.     0.  ]\n",
            " [  0.     0.     0.     0.     0.   100.     0.     0.     0.     0.\n",
            "    0.     0.     0.     0.     0.  ]\n",
            " [  3.33  13.33   0.     0.     0.     0.    60.     0.     0.     3.33\n",
            "    3.33   0.     0.    13.33   3.33]\n",
            " [  0.     0.     0.     0.     0.     0.    10.    50.     0.     0.\n",
            "    0.     0.    40.     0.     0.  ]\n",
            " [  0.     0.    20.     0.     0.     0.     0.     0.    70.     0.\n",
            "   10.     0.     0.     0.     0.  ]\n",
            " [  0.     6.67   0.     0.     0.     0.     8.33   0.     0.    83.33\n",
            "    1.67   0.     0.     0.     0.  ]\n",
            " [  0.    10.     0.     0.     0.     0.     0.     0.     3.33   3.33\n",
            "   83.33   0.     0.     0.     0.  ]\n",
            " [  0.     0.     0.     0.     0.     0.     0.     0.     0.     0.\n",
            "    0.   100.     0.     0.     0.  ]\n",
            " [  0.     0.     0.     0.     0.     0.     0.     0.     0.     0.\n",
            "    0.     0.   100.     0.     0.  ]\n",
            " [  0.     0.     0.     0.     0.     0.    16.67   0.     0.     0.\n",
            "    0.     0.     0.    83.33   0.  ]\n",
            " [ 20.     0.     0.     0.     0.     0.    10.     0.     0.     0.\n",
            "    0.     0.     0.     0.    70.  ]]\n"
          ],
          "name": "stdout"
        }
      ]
    },
    {
      "cell_type": "code",
      "metadata": {
        "id": "hukdhBogww_k"
      },
      "source": [
        "#The best results\r\n",
        "imax = np.argmax(accms[:,0])\r\n",
        "print('acc=$%.2f\\pm%.2f' % (accms[imax,0],accms[imax,1]))\r\n",
        "print('confusionmatrix \\n',Cms[imax])\r\n",
        "print('Sigx=%.2e, Sigy=%.2e' % (sigmaM[imax,0],sigmaM[imax,1]))"
      ],
      "execution_count": null,
      "outputs": []
    },
    {
      "cell_type": "markdown",
      "metadata": {
        "id": "3sJ1tXZZdWtj"
      },
      "source": [
        "## **12. We construct and graph the confusion matrix of the previous classification**"
      ]
    },
    {
      "cell_type": "code",
      "metadata": {
        "id": "3pbjOXs7HGJZ"
      },
      "source": [
        "#id del archivo: 1sui-FJI5znNJuQOk0whM6PALI89XfKss\r\n",
        "FILEID = \"1sui-FJI5znNJuQOk0whM6PALI89XfKss\"\r\n",
        "!wget --load-cookies /tmp/cookies.txt \"https://docs.google.com/uc?export=download&confirm=$(wget --quiet --save-cookies /tmp/cookies.txt --keep-session-cookies --no-check-certificate 'https://docs.google.com/uc?export=download&id='$FILEID -O- | sed -rn 's/.*confirm=([0-9A-Za-z_]+).*/\\1\\n/p')&id=\"$FILEID -O codigos.zip && rm -rf /tmp/cookies.txt\r\n",
        "!unzip codigos.zip\r\n",
        "!dir\r\n",
        "!pip install mne==0.19"
      ],
      "execution_count": null,
      "outputs": []
    },
    {
      "cell_type": "code",
      "metadata": {
        "id": "c5pb2TOSHMu4"
      },
      "source": [
        "import sys\r\n",
        "#agregar carpeta con funciones\r\n",
        "sys.path.insert(1, './CodesBCIITL')\r\n",
        "%matplotlib inline\r\n",
        "from MIfunctions import * #importar todas las funciones de manejo de eeg con mne\r\n",
        "####################################################\r\n",
        "#clase principal reduccion de dimension con kernels\r\n",
        "from MiniBatchCKA import MiniBatchCKA # Aqui importar la funcion de reduccion con itl\r\n",
        "###################################################"
      ],
      "execution_count": 60,
      "outputs": []
    },
    {
      "cell_type": "code",
      "metadata": {
        "colab": {
          "base_uri": "https://localhost:8080/",
          "height": 309
        },
        "id": "QT6vUwa5HQnZ",
        "outputId": "325db9bc-88c2-4300-f0bc-294b4e35b0b1"
      },
      "source": [
        "plot_confusion_matrix_MS(Cms[imax], Cmstd[imax], np.unique(y))\r\n",
        "plt.title('${Acc}$='+ format(accms[imax,0],'.1f') +'$\\pm$'+ format(accms[imax,1],'.1f'))\r\n",
        "plt.autoscale\r\n",
        "#plt.xticks([0,1,2,3],list_folder)\r\n",
        "#plt.yticks([0,1,2,3],list_folder)\r\n",
        "#plt.savefig('acc_svm.pdf', bbox_inches='tight')\r\n",
        "plt.savefig('acc_CMU.pdf', bbox_inches='tight')\r\n",
        "plt.show()\r\n",
        "#print(best_parameters)"
      ],
      "execution_count": 68,
      "outputs": [
        {
          "output_type": "display_data",
          "data": {
            "image/png": "[encoded data removed]",
            "text/plain": [
              "<Figure size 432x288 with 2 Axes>"
            ]
          },
          "metadata": {
            "tags": [],
            "needs_background": "light"
          }
        }
      ]
    }
  ]
}